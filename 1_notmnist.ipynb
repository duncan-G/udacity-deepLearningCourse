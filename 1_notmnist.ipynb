{
 "cells": [
  {
   "cell_type": "markdown",
   "metadata": {
    "colab_type": "text",
    "id": "5hIbr52I7Z7U"
   },
   "source": [
    "Deep Learning\n",
    "=============\n",
    "\n",
    "Assignment 1\n",
    "------------\n",
    "\n",
    "The objective of this assignment is to learn about simple data curation practices, and familiarize you with some of the data we'll be reusing later.\n",
    "\n",
    "This notebook uses the [notMNIST](http://yaroslavvb.blogspot.com/2011/09/notmnist-dataset.html) dataset to be used with python experiments. This dataset is designed to look like the classic [MNIST](http://yann.lecun.com/exdb/mnist/) dataset, while looking a little more like real data: it's a harder task, and the data is a lot less 'clean' than MNIST."
   ]
  },
  {
   "cell_type": "code",
   "execution_count": 2,
   "metadata": {
    "cellView": "both",
    "colab": {
     "autoexec": {
      "startup": false,
      "wait_interval": 0
     }
    },
    "colab_type": "code",
    "collapsed": true,
    "id": "apJbCsBHl-2A"
   },
   "outputs": [],
   "source": [
    "# These are all the modules we'll be using later. Make sure you can import them\n",
    "# before proceeding further.\n",
    "from __future__ import print_function\n",
    "import matplotlib.pyplot as plt\n",
    "import numpy as np\n",
    "import os\n",
    "import gc\n",
    "import sys\n",
    "import time\n",
    "import functools\n",
    "import tarfile\n",
    "from pprint import pprint\n",
    "from IPython.display import display, Image\n",
    "from scipy import ndimage\n",
    "from sklearn.linear_model import LogisticRegression\n",
    "from six.moves.urllib.request import urlretrieve\n",
    "from six.moves import cPickle as pickle\n",
    "\n",
    "# Config the matplotlib backend as plotting inline in IPython\n",
    "%matplotlib inline"
   ]
  },
  {
   "cell_type": "code",
   "execution_count": 3,
   "metadata": {
    "collapsed": true
   },
   "outputs": [],
   "source": [
    "\"\"\" \n",
    "Important variables used in the data downloand and extraction process.\n",
    "As we do not need to run the process again, variables are placed here.\n",
    "\"\"\"\n",
    "data_root = '.'\n",
    "num_classes = 10\n",
    "image_size = 28  # Pixel width and height.\n",
    "pixel_depth = 255.0  # Number of levels per pixel.\n",
    "small_path = 'notMNIST_small/'\n",
    "large_path = 'notMNIST_large'"
   ]
  },
  {
   "cell_type": "markdown",
   "metadata": {
    "colab_type": "text",
    "id": "jNWGtZaXn-5j"
   },
   "source": [
    "First, we'll download the dataset to our local machine. The data consists of characters rendered in a variety of fonts on a 28x28 image. The labels are limited to 'A' through 'J' (10 classes). The training set has about 500k and the testset 19000 labeled examples. Given these sizes, it should be possible to train models quickly on any machine."
   ]
  },
  {
   "cell_type": "code",
   "execution_count": 3,
   "metadata": {
    "cellView": "both",
    "colab": {
     "autoexec": {
      "startup": false,
      "wait_interval": 0
     },
     "output_extras": [
      {
       "item_id": 1
      }
     ]
    },
    "colab_type": "code",
    "executionInfo": {
     "elapsed": 186058,
     "status": "ok",
     "timestamp": 1444485672507,
     "user": {
      "color": "#1FA15D",
      "displayName": "Vincent Vanhoucke",
      "isAnonymous": false,
      "isMe": true,
      "permissionId": "05076109866853157986",
      "photoUrl": "//lh6.googleusercontent.com/-cCJa7dTDcgQ/AAAAAAAAAAI/AAAAAAAACgw/r2EZ_8oYer4/s50-c-k-no/photo.jpg",
      "sessionId": "2a0a5e044bb03b66",
      "userId": "102167687554210253930"
     },
     "user_tz": 420
    },
    "id": "EYRJ4ICW6-da",
    "outputId": "0d0f85df-155f-4a89-8e7e-ee32df36ec8d"
   },
   "outputs": [
    {
     "name": "stdout",
     "output_type": "stream",
     "text": [
      "Found and verified ./notMNIST_large.tar.gz\n",
      "Found and verified ./notMNIST_small.tar.gz\n"
     ]
    }
   ],
   "source": [
    "url = 'https://commondatastorage.googleapis.com/books1000/'\n",
    "last_percent_reported = None\n",
    "#data_root = '.' # Change me to store data elsewhere\n",
    "\n",
    "def download_progress_hook(count, blockSize, totalSize):\n",
    "  \"\"\"A hook to report the progress of a download. This is mostly intended for users with\n",
    "  slow internet connections. Reports every 5% change in download progress.\n",
    "  \"\"\"\n",
    "  global last_percent_reported\n",
    "  percent = int(count * blockSize * 100 / totalSize)\n",
    "\n",
    "  if last_percent_reported != percent:\n",
    "    if percent % 5 == 0:\n",
    "      sys.stdout.write(\"%s%%\" % percent)\n",
    "      sys.stdout.flush()\n",
    "    else:\n",
    "      sys.stdout.write(\".\")\n",
    "      sys.stdout.flush()\n",
    "      \n",
    "    last_percent_reported = percent\n",
    "        \n",
    "def maybe_download(filename, expected_bytes, force=False):\n",
    "  \"\"\"Download a file if not present, and make sure it's the right size.\"\"\"\n",
    "  dest_filename = os.path.join(data_root, filename)\n",
    "  if force or not os.path.exists(dest_filename):\n",
    "    print('Attempting to download:', filename) \n",
    "    filename, _ = urlretrieve(url + filename, dest_filename, reporthook=download_progress_hook)\n",
    "    print('\\nDownload Complete!')\n",
    "  statinfo = os.stat(dest_filename)\n",
    "  if statinfo.st_size == expected_bytes:\n",
    "    print('Found and verified', dest_filename)\n",
    "  else:\n",
    "    raise Exception(\n",
    "      'Failed to verify ' + dest_filename + '. Can you get to it with a browser?')\n",
    "  return dest_filename\n",
    "\n",
    "train_filename = maybe_download('notMNIST_large.tar.gz', 247336696)\n",
    "test_filename = maybe_download('notMNIST_small.tar.gz', 8458043)"
   ]
  },
  {
   "cell_type": "markdown",
   "metadata": {
    "colab_type": "text",
    "id": "cC3p0oEyF8QT"
   },
   "source": [
    "Extract the dataset from the compressed .tar.gz file.\n",
    "This should give you a set of directories, labeled A through J."
   ]
  },
  {
   "cell_type": "code",
   "execution_count": 4,
   "metadata": {
    "cellView": "both",
    "colab": {
     "autoexec": {
      "startup": false,
      "wait_interval": 0
     },
     "output_extras": [
      {
       "item_id": 1
      }
     ]
    },
    "colab_type": "code",
    "executionInfo": {
     "elapsed": 186055,
     "status": "ok",
     "timestamp": 1444485672525,
     "user": {
      "color": "#1FA15D",
      "displayName": "Vincent Vanhoucke",
      "isAnonymous": false,
      "isMe": true,
      "permissionId": "05076109866853157986",
      "photoUrl": "//lh6.googleusercontent.com/-cCJa7dTDcgQ/AAAAAAAAAAI/AAAAAAAACgw/r2EZ_8oYer4/s50-c-k-no/photo.jpg",
      "sessionId": "2a0a5e044bb03b66",
      "userId": "102167687554210253930"
     },
     "user_tz": 420
    },
    "id": "H8CBE-WZ8nmj",
    "outputId": "ef6c790c-2513-4b09-962e-27c79390c762"
   },
   "outputs": [
    {
     "name": "stdout",
     "output_type": "stream",
     "text": [
      "Extracting data for ./notMNIST_large. This may take a while. Please wait.\n",
      "['./notMNIST_large/A', './notMNIST_large/B', './notMNIST_large/C', './notMNIST_large/D', './notMNIST_large/E', './notMNIST_large/F', './notMNIST_large/G', './notMNIST_large/H', './notMNIST_large/I', './notMNIST_large/J']\n",
      "Extracting data for ./notMNIST_small. This may take a while. Please wait.\n",
      "['./notMNIST_small/A', './notMNIST_small/B', './notMNIST_small/C', './notMNIST_small/D', './notMNIST_small/E', './notMNIST_small/F', './notMNIST_small/G', './notMNIST_small/H', './notMNIST_small/I', './notMNIST_small/J']\n"
     ]
    }
   ],
   "source": [
    "#num_classes = 10\n",
    "np.random.seed(133)\n",
    "\n",
    "def maybe_extract(filename, force=False):\n",
    "  root = os.path.splitext(os.path.splitext(filename)[0])[0]  # remove .tar.gz\n",
    "  if os.path.isdir(root) and not force:\n",
    "    # You may override by setting force=True.\n",
    "    print('%s already present - Skipping extraction of %s.' % (root, filename))\n",
    "  else:\n",
    "    print('Extracting data for %s. This may take a while. Please wait.' % root)\n",
    "    tar = tarfile.open(filename)\n",
    "    sys.stdout.flush()\n",
    "    tar.extractall(data_root)\n",
    "    tar.close()\n",
    "  data_folders = [\n",
    "    os.path.join(root, d) for d in sorted(os.listdir(root))\n",
    "    if os.path.isdir(os.path.join(root, d))]\n",
    "  if len(data_folders) != num_classes:\n",
    "    raise Exception(\n",
    "      'Expected %d folders, one per class. Found %d instead.' % (\n",
    "        num_classes, len(data_folders)))\n",
    "  print(data_folders)\n",
    "  return data_folders\n",
    "  \n",
    "train_folders = maybe_extract(train_filename)\n",
    "test_folders = maybe_extract(test_filename)"
   ]
  },
  {
   "cell_type": "markdown",
   "metadata": {
    "colab_type": "text",
    "id": "4riXK3IoHgx6"
   },
   "source": [
    "---\n",
    "Problem 1\n",
    "---------\n",
    "\n",
    "Let's take a peek at some of the data to make sure it looks sensible. Each exemplar should be an image of a character A through J rendered in a different font. Display a sample of the images that we just downloaded. Hint: you can use the package IPython.display.\n",
    "\n",
    "---"
   ]
  },
  {
   "cell_type": "code",
   "execution_count": 3,
   "metadata": {},
   "outputs": [
    {
     "data": {
      "image/png": "[encoded data removed]",
      "text/plain": [
       "<IPython.core.display.Image object>"
      ]
     },
     "metadata": {},
     "output_type": "display_data"
    },
    {
     "data": {
      "image/png": "[encoded data removed]",
      "text/plain": [
       "<IPython.core.display.Image object>"
      ]
     },
     "metadata": {},
     "output_type": "display_data"
    },
    {
     "data": {
      "image/png": "[encoded data removed]",
      "text/plain": [
       "<IPython.core.display.Image object>"
      ]
     },
     "metadata": {},
     "output_type": "display_data"
    },
    {
     "data": {
      "image/png": "[encoded data removed]",
      "text/plain": [
       "<IPython.core.display.Image object>"
      ]
     },
     "metadata": {},
     "output_type": "display_data"
    }
   ],
   "source": [
    "A_s = os.listdir(small_path + 'A/')\n",
    "J_s = os.listdir(small_path + 'J/')\n",
    "\n",
    "display(Image(small_path + 'A/' + A_s[10]))\n",
    "display(Image(small_path + 'A/' + A_s[15]))\n",
    "display(Image(small_path + 'J/' + J_s[15]))\n",
    "display(Image(small_path + 'J/' + J_s[1000]))"
   ]
  },
  {
   "cell_type": "code",
   "execution_count": 4,
   "metadata": {},
   "outputs": [
    {
     "data": {
      "text/plain": [
       "0"
      ]
     },
     "execution_count": 4,
     "metadata": {},
     "output_type": "execute_result"
    }
   ],
   "source": [
    "gc.collect()"
   ]
  },
  {
   "cell_type": "markdown",
   "metadata": {
    "colab_type": "text",
    "id": "PBdkjESPK8tw"
   },
   "source": [
    "Now let's load the data in a more manageable format. Since, depending on your computer setup you might not be able to fit it all in memory, we'll load each class into a separate dataset, store them on disk and curate them independently. Later we'll merge them into a single dataset of manageable size.\n",
    "\n",
    "We'll convert the entire dataset into a 3D array (image index, x, y) of floating point values, normalized to have approximately zero mean and standard deviation ~0.5 to make training easier down the road. \n",
    "\n",
    "A few images might not be readable, we'll just skip them."
   ]
  },
  {
   "cell_type": "code",
   "execution_count": 4,
   "metadata": {
    "cellView": "both",
    "colab": {
     "autoexec": {
      "startup": false,
      "wait_interval": 0
     },
     "output_extras": [
      {
       "item_id": 30
      }
     ]
    },
    "colab_type": "code",
    "collapsed": true,
    "executionInfo": {
     "elapsed": 399874,
     "status": "ok",
     "timestamp": 1444485886378,
     "user": {
      "color": "#1FA15D",
      "displayName": "Vincent Vanhoucke",
      "isAnonymous": false,
      "isMe": true,
      "permissionId": "05076109866853157986",
      "photoUrl": "//lh6.googleusercontent.com/-cCJa7dTDcgQ/AAAAAAAAAAI/AAAAAAAACgw/r2EZ_8oYer4/s50-c-k-no/photo.jpg",
      "sessionId": "2a0a5e044bb03b66",
      "userId": "102167687554210253930"
     },
     "user_tz": 420
    },
    "id": "h7q0XhG3MJdf",
    "outputId": "92c391bb-86ff-431d-9ada-315568a19e59"
   },
   "outputs": [],
   "source": [
    "#image_size = 28  # Pixel width and height.\n",
    "#pixel_depth = 255.0  # Number of levels per pixel.\n",
    "\n",
    "def load_letter(folder, min_num_images):\n",
    "  \"\"\"Load the data for a single letter label.\"\"\"\n",
    "  image_files = os.listdir(folder)\n",
    "  dataset = np.ndarray(shape=(len(image_files), image_size, image_size),\n",
    "                         dtype=np.float32)\n",
    "  print(folder)\n",
    "  num_images = 0\n",
    "  for image in image_files:\n",
    "    image_file = os.path.join(folder, image)\n",
    "    try:\n",
    "      image_data = (ndimage.imread(image_file).astype(float) - \n",
    "                    pixel_depth / 2) / pixel_depth  #Normalize the input\n",
    "      if image_data.shape != (image_size, image_size):\n",
    "        raise Exception('Unexpected image shape: %s' % str(image_data.shape))\n",
    "      dataset[num_images, :, :] = image_data\n",
    "      num_images = num_images + 1\n",
    "    except IOError as e:\n",
    "      print('Could not read:', image_file, ':', e, '- it\\'s ok, skipping.')\n",
    "    \n",
    "  dataset = dataset[0:num_images, :, :]\n",
    "  if num_images < min_num_images:\n",
    "    raise Exception('Many fewer images than expected: %d < %d' %\n",
    "                    (num_images, min_num_images))\n",
    "    \n",
    "  print('Full dataset tensor:', dataset.shape)\n",
    "  print('Mean:', np.mean(dataset))\n",
    "  print('Standard deviation:', np.std(dataset))\n",
    "  return dataset\n",
    "        \n",
    "def maybe_pickle(data_folders, min_num_images_per_class, force=False):\n",
    "  dataset_names = []\n",
    "  for folder in data_folders:\n",
    "    set_filename = folder + '.pickle'\n",
    "    dataset_names.append(set_filename)\n",
    "    if os.path.exists(set_filename) and not force:\n",
    "      # You may override by setting force=True.\n",
    "      print('%s already present - Skipping pickling.' % set_filename)\n",
    "    else:\n",
    "      print('Pickling %s.' % set_filename)\n",
    "      dataset = load_letter(folder, min_num_images_per_class)\n",
    "      try:\n",
    "        with open(set_filename, 'wb') as f:\n",
    "          pickle.dump(dataset, f, pickle.HIGHEST_PROTOCOL)\n",
    "      except Exception as e:\n",
    "        print('Unable to save data to', set_filename, ':', e)\n",
    "  \n",
    "  return dataset_names\n",
    "\n",
    "#train_datasets = maybe_pickle(train_folders, 45000)\n",
    "#test_datasets = maybe_pickle(test_folders, 1800)"
   ]
  },
  {
   "cell_type": "markdown",
   "metadata": {
    "colab_type": "text",
    "id": "vUdbskYE2d87"
   },
   "source": [
    "---\n",
    "Problem 2\n",
    "---------\n",
    "\n",
    "Let's verify that the data still looks good. Displaying a sample of the labels and images from the ndarray. Hint: you can use matplotlib.pyplot.\n",
    "\n",
    "---"
   ]
  },
  {
   "cell_type": "code",
   "execution_count": 5,
   "metadata": {
    "scrolled": true
   },
   "outputs": [
    {
     "data": {
      "image/png": "[encoded data removed]",
      "text/plain": [
       "<matplotlib.figure.Figure at 0x7fe2bc1ad390>"
      ]
     },
     "metadata": {},
     "output_type": "display_data"
    },
    {
     "data": {
      "image/png": "[encoded data removed]",
      "text/plain": [
       "<matplotlib.figure.Figure at 0x7fe277cf6f10>"
      ]
     },
     "metadata": {},
     "output_type": "display_data"
    },
    {
     "name": "stdout",
     "output_type": "stream",
     "text": [
      "16.4097\n"
     ]
    }
   ],
   "source": [
    "A_s = pickle.load(open('./notMNIST_small/A.pickle'))\n",
    "def display_letter(image_matrix):\n",
    "    plt.imshow(image_matrix)\n",
    "    plt.colorbar()\n",
    "    plt.show()\n",
    "\n",
    "def display_letter_2(image_matrix):\n",
    "    plt.imshow(toimage(image_matrix))\n",
    "    ptl.show()\n",
    "    \n",
    "display_letter(A_s[0])\n",
    "display_letter(A_s[1334])\n",
    "\n",
    "diff = A_s[440] - A_s[1334]\n",
    "print (np.linalg.norm(diff))"
   ]
  },
  {
   "cell_type": "markdown",
   "metadata": {
    "colab_type": "text",
    "id": "cYznx5jUwzoO"
   },
   "source": [
    "---\n",
    "Problem 3\n",
    "---------\n",
    "Another check: we expect the data to be balanced across classes. Verify that.\n",
    "\n",
    "---"
   ]
  },
  {
   "cell_type": "code",
   "execution_count": 6,
   "metadata": {},
   "outputs": [
    {
     "name": "stdout",
     "output_type": "stream",
     "text": [
      "{'A.pickle': (52909, 28, 28),\n",
      " 'B.pickle': (52911, 28, 28),\n",
      " 'C.pickle': (52912, 28, 28),\n",
      " 'D.pickle': (52911, 28, 28),\n",
      " 'E.pickle': (52912, 28, 28),\n",
      " 'F.pickle': (52912, 28, 28),\n",
      " 'G.pickle': (52912, 28, 28),\n",
      " 'H.pickle': (52912, 28, 28),\n",
      " 'I.pickle': (52912, 28, 28),\n",
      " 'J.pickle': (52911, 28, 28)}\n"
     ]
    }
   ],
   "source": [
    "classes = os.listdir('./notMNIST_large')\n",
    "class_sizes = {}\n",
    "for cls in classes:\n",
    "    letter = pickle.load(open('./notMNIST_large/' + cls))\n",
    "    class_sizes[cls] = letter.shape\n",
    "del(letter)\n",
    "from pprint import pprint\n",
    "pprint (class_sizes)"
   ]
  },
  {
   "cell_type": "markdown",
   "metadata": {},
   "source": [
    "<h4> data is not balanced accross classes </h4>"
   ]
  },
  {
   "cell_type": "markdown",
   "metadata": {
    "colab_type": "text",
    "id": "LA7M7K22ynCt"
   },
   "source": [
    "Merge and prune the training data as needed. Depending on your computer setup, you might not be able to fit it all in memory, and you can tune `train_size` as needed. The labels will be stored into a separate array of integers 0 through 9.\n",
    "\n",
    "Also create a validation dataset for hyperparameter tuning."
   ]
  },
  {
   "cell_type": "code",
   "execution_count": 11,
   "metadata": {
    "cellView": "both",
    "colab": {
     "autoexec": {
      "startup": false,
      "wait_interval": 0
     },
     "output_extras": [
      {
       "item_id": 1
      }
     ]
    },
    "colab_type": "code",
    "executionInfo": {
     "elapsed": 411281,
     "status": "ok",
     "timestamp": 1444485897869,
     "user": {
      "color": "#1FA15D",
      "displayName": "Vincent Vanhoucke",
      "isAnonymous": false,
      "isMe": true,
      "permissionId": "05076109866853157986",
      "photoUrl": "//lh6.googleusercontent.com/-cCJa7dTDcgQ/AAAAAAAAAAI/AAAAAAAACgw/r2EZ_8oYer4/s50-c-k-no/photo.jpg",
      "sessionId": "2a0a5e044bb03b66",
      "userId": "102167687554210253930"
     },
     "user_tz": 420
    },
    "id": "s3mWgZLpyuzq",
    "outputId": "8af66da6-902d-4719-bedc-7c9fb7ae7948"
   },
   "outputs": [
    {
     "name": "stdout",
     "output_type": "stream",
     "text": [
      "Training: (400000, 28, 28) (400000,)\n",
      "Validation: (50000, 28, 28) (50000,)\n",
      "Testing: (10000, 28, 28) (10000,)\n"
     ]
    }
   ],
   "source": [
    "def make_arrays(nb_rows, img_size):\n",
    "  if nb_rows:\n",
    "    dataset = np.ndarray((nb_rows, img_size, img_size), dtype=np.float32)\n",
    "    labels = np.ndarray(nb_rows, dtype=np.int32)\n",
    "  else:\n",
    "    dataset, labels = None, None\n",
    "  return dataset, labels\n",
    "\n",
    "def merge_datasets(pickle_files, train_size, valid_size=0):\n",
    "  num_classes = len(pickle_files) #10 letters\n",
    "  valid_dataset, valid_labels = make_arrays(valid_size, image_size)\n",
    "  train_dataset, train_labels = make_arrays(train_size, image_size)\n",
    "  vsize_per_class = valid_size // num_classes #=5000\n",
    "  tsize_per_class = train_size // num_classes #=40000\n",
    "    \n",
    "  start_v, start_t = 0, 0\n",
    "  end_v, end_t = vsize_per_class, tsize_per_class\n",
    "  end_l = vsize_per_class+tsize_per_class\n",
    "  for label, pickle_file in enumerate(pickle_files):       \n",
    "    try:\n",
    "      with open(pickle_file, 'rb') as f:\n",
    "        letter_set = pickle.load(f)\n",
    "        # let's shuffle the letters to have random validation and training set\n",
    "        np.random.shuffle(letter_set)\n",
    "        if valid_dataset is not None:\n",
    "          valid_letter = letter_set[:vsize_per_class, :, :]\n",
    "          valid_dataset[start_v:end_v, :, :] = valid_letter\n",
    "          valid_labels[start_v:end_v] = label\n",
    "          start_v += vsize_per_class\n",
    "          end_v += vsize_per_class\n",
    "                    \n",
    "        train_letter = letter_set[vsize_per_class:end_l, :, :]\n",
    "        train_dataset[start_t:end_t, :, :] = train_letter\n",
    "        train_labels[start_t:end_t] = label\n",
    "        start_t += tsize_per_class\n",
    "        end_t += tsize_per_class\n",
    "    except Exception as e:\n",
    "      print('Unable to process data from', pickle_file, ':', e)\n",
    "      raise\n",
    "    \n",
    "  return valid_dataset, valid_labels, train_dataset, train_labels\n",
    "            \n",
    "            \n",
    "train_size = 400000\n",
    "valid_size = 50000\n",
    "test_size = 10000\n",
    "train_folder = 'notMNIST_large/'\n",
    "test_folder = 'notMNIST_small/'\n",
    "train_datasets = os.listdir(train_folder)\n",
    "train_datasets = [train_folder + f for f in train_datasets if '.pickle' in f]\n",
    "test_datasets = os.listdir(test_folder)\n",
    "test_datasets = [test_folder + f for f in test_datasets if '.pickle' in f]\n",
    "\n",
    "valid_dataset, valid_labels, train_dataset, train_labels = merge_datasets(\n",
    "  train_datasets, train_size, valid_size)\n",
    "_, _, test_dataset, test_labels = merge_datasets(test_datasets, test_size)\n",
    "\n",
    "print('Training:', train_dataset.shape, train_labels.shape)\n",
    "print('Validation:', valid_dataset.shape, valid_labels.shape)\n",
    "print('Testing:', test_dataset.shape, test_labels.shape)"
   ]
  },
  {
   "cell_type": "markdown",
   "metadata": {
    "colab_type": "text",
    "id": "GPTCnjIcyuKN"
   },
   "source": [
    "Next, we'll randomize the data. It's important to have the labels well shuffled for the training and test distributions to match."
   ]
  },
  {
   "cell_type": "code",
   "execution_count": 12,
   "metadata": {
    "cellView": "both",
    "colab": {
     "autoexec": {
      "startup": false,
      "wait_interval": 0
     }
    },
    "colab_type": "code",
    "collapsed": true,
    "id": "6WZ2l2tN2zOL"
   },
   "outputs": [],
   "source": [
    "def randomize(dataset, labels):\n",
    "  permutation = np.random.permutation(labels.shape[0])\n",
    "  shuffled_dataset = dataset[permutation,:,:]\n",
    "  shuffled_labels = labels[permutation]\n",
    "  return shuffled_dataset, shuffled_labels\n",
    "train_dataset, train_labels = randomize(train_dataset, train_labels)\n",
    "test_dataset, test_labels = randomize(test_dataset, test_labels)\n",
    "valid_dataset, valid_labels = randomize(valid_dataset, valid_labels)"
   ]
  },
  {
   "cell_type": "markdown",
   "metadata": {
    "colab_type": "text",
    "id": "puDUTe6t6USl"
   },
   "source": [
    "---\n",
    "Problem 4\n",
    "---------\n",
    "Convince yourself that the data is still good after shuffling!\n",
    "\n",
    "---"
   ]
  },
  {
   "cell_type": "markdown",
   "metadata": {},
   "source": [
    "<h4> The same permutation was used for shuffling the dataset and the labels. Therefore each datapoint matches it's label. On a side note, I am unsure if the training and test distributions match. </h4>"
   ]
  },
  {
   "cell_type": "markdown",
   "metadata": {
    "colab_type": "text",
    "id": "tIQJaJuwg5Hw"
   },
   "source": [
    "Finally, let's save the data for later reuse:"
   ]
  },
  {
   "cell_type": "code",
   "execution_count": 13,
   "metadata": {
    "cellView": "both",
    "colab": {
     "autoexec": {
      "startup": false,
      "wait_interval": 0
     }
    },
    "colab_type": "code",
    "collapsed": true,
    "id": "QiR_rETzem6C"
   },
   "outputs": [],
   "source": [
    "pickle_file = os.path.join(data_root, 'notMNIST.pickle')\n",
    "\n",
    "try:\n",
    "  f = open(pickle_file, 'wb')\n",
    "  save = {\n",
    "    'train_dataset': train_dataset,\n",
    "    'train_labels': train_labels,\n",
    "    'valid_dataset': valid_dataset,\n",
    "    'valid_labels': valid_labels,\n",
    "    'test_dataset': test_dataset,\n",
    "    'test_labels': test_labels,\n",
    "    }\n",
    "  pickle.dump(save, f, pickle.HIGHEST_PROTOCOL)\n",
    "  f.close()\n",
    "except Exception as e:\n",
    "  print('Unable to save data to', pickle_file, ':', e)\n",
    "  raise"
   ]
  },
  {
   "cell_type": "code",
   "execution_count": 14,
   "metadata": {
    "cellView": "both",
    "colab": {
     "autoexec": {
      "startup": false,
      "wait_interval": 0
     },
     "output_extras": [
      {
       "item_id": 1
      }
     ]
    },
    "colab_type": "code",
    "executionInfo": {
     "elapsed": 413065,
     "status": "ok",
     "timestamp": 1444485899688,
     "user": {
      "color": "#1FA15D",
      "displayName": "Vincent Vanhoucke",
      "isAnonymous": false,
      "isMe": true,
      "permissionId": "05076109866853157986",
      "photoUrl": "//lh6.googleusercontent.com/-cCJa7dTDcgQ/AAAAAAAAAAI/AAAAAAAACgw/r2EZ_8oYer4/s50-c-k-no/photo.jpg",
      "sessionId": "2a0a5e044bb03b66",
      "userId": "102167687554210253930"
     },
     "user_tz": 420
    },
    "id": "hQbLjrW_iT39",
    "outputId": "b440efc6-5ee1-4cbc-d02d-93db44ebd956"
   },
   "outputs": [
    {
     "name": "stdout",
     "output_type": "stream",
     "text": [
      "Compressed pickle size: 1444400441\n"
     ]
    }
   ],
   "source": [
    "statinfo = os.stat(pickle_file)\n",
    "print('Compressed pickle size:', statinfo.st_size)"
   ]
  },
  {
   "cell_type": "markdown",
   "metadata": {
    "colab_type": "text",
    "id": "gE_cRAQB33lk"
   },
   "source": [
    "---\n",
    "Problem 5\n",
    "---------\n",
    "\n",
    "By construction, this dataset might contain a lot of overlapping samples, including training data that's also contained in the validation and test set! Overlap between training and test can skew the results if you expect to use your model in an environment where there is never an overlap, but are actually ok if you expect to see training samples recur when you use it.\n",
    "Measure how much overlap there is between training, validation and test samples.\n",
    "\n",
    "Optional questions:\n",
    "- What about near duplicates between datasets? (images that are almost identical)\n",
    "- Create a sanitized validation and test set, and compare your accuracy on those in subsequent assignments.\n",
    "---"
   ]
  },
  {
   "cell_type": "code",
   "execution_count": 4,
   "metadata": {
    "collapsed": true
   },
   "outputs": [],
   "source": [
    "pickle_file = os.path.join(data_root, 'notMNIST.pickle')\n",
    "datasets = pickle.load(open(pickle_file))\n",
    "\n",
    "locals().update(datasets) #vars = train_labels,valid_labels,test_labels,test_dataset,train_dataset,valid_dataset \n",
    "del(datasets)\n",
    "label_mapping = { 0:'B',\n",
    "                  7:'C',\n",
    "                  9:'I',\n",
    "                  4:'A',\n",
    "                  6:'H',\n",
    "                  3:'J',\n",
    "                  8:'F',\n",
    "                  1:'E',\n",
    "                  2:'D',\n",
    "                  5:'G',\n",
    "                 }"
   ]
  },
  {
   "cell_type": "code",
   "execution_count": 5,
   "metadata": {
    "collapsed": true
   },
   "outputs": [],
   "source": [
    "#Time a function\n",
    "def timeit(func):\n",
    "    @functools.wraps(func)\n",
    "    def newfunc(*args, **kwargs):\n",
    "        startTime = time.time()\n",
    "        results = func(*args, **kwargs)\n",
    "        elapsedTime = time.time() - startTime\n",
    "        print('function [{}] finished in {} ms'.format(\n",
    "            func.__name__, int(elapsedTime * 1000)))\n",
    "        return results\n",
    "    return newfunc"
   ]
  },
  {
   "cell_type": "code",
   "execution_count": 6,
   "metadata": {
    "collapsed": true
   },
   "outputs": [],
   "source": [
    "def order_datasets(dset_one,dset_two):\n",
    "    #Order 2 datasets in descending order\n",
    "    if dset_one.shape[0] >= dset_two.shape[1]:\n",
    "        return dset_one,dset_two\n",
    "    else:\n",
    "        return dset_two,dset_one\n",
    "    \n",
    "def close_to_zero(array,lower,upper):\n",
    "    norm = np.linalg.norm(array)\n",
    "    if upper == lower == 0:\n",
    "        if norm == 0:\n",
    "            return True\n",
    "        else:\n",
    "            return False\n",
    "        \n",
    "    if norm < upper and norm >= lower:\n",
    "        return True\n",
    "    else:\n",
    "        return False\n",
    "    \n",
    "def concat_overlaps(overlap):   #Method incomlete\n",
    "    #Remove images that are not overlapping from dictionary\n",
    "    #If there are more than 2 images that are equal, they are counted more than once.\n",
    "    #Remove those images\n",
    "    overlap_ = {}\n",
    "    overlap_values = []\n",
    "    for o in overlap:\n",
    "        if overlap[o]:\n",
    "            overlap_values.extend(overlap[0])\n",
    "            overlap_[o] = overlap[o]\n",
    "    \n",
    "    _overlap_ = {}\n",
    "    for o in overlap_:\n",
    "        if o not in overlap_values:\n",
    "            _overlap_[o] = overlap_[o]\n",
    "        \n",
    "    return _overlap_\n",
    "        \n",
    "def make_dict(num):\n",
    "    d = {}\n",
    "    for i in range(0,num):\n",
    "        d[i] = []\n",
    "    return d\n",
    "\n",
    "@timeit\n",
    "def calculate_overlap_ratio_1(dset_one,dset_two,duplicate_cuttoff,near_overlap=False,same_dataset=False):\n",
    "    \"\"\"\n",
    "    Calculate Ratios.\n",
    "    Attempt One. Runs in O(n^2)\n",
    "    For larger datasets, this is too slow.\n",
    "    Read at the end for a faster algorithm proposal.\n",
    "    \"\"\"\n",
    "    #If near_duplicates == True, return exact duplicates and near dupliates.\n",
    "    dset_one,dset_two = order_datasets(dset_one,dset_two)\n",
    "    zeros = np.zeros((image_size,image_size))\n",
    "    overlap = make_dict(dset_one.shape[0])\n",
    "    if near_overlap:\n",
    "        overlap_near = make_dict(dset_one.shape[0])\n",
    "    dset_two_len = len(dset_two)\n",
    "    dset_one_len = len(dset_one)\n",
    "    total = dset_two_len + dset_one_len\n",
    "    \n",
    "    if same_dataset:\n",
    "        q = 1\n",
    "    else:\n",
    "        q = 0\n",
    "    for i in range(0,dset_one_len):\n",
    "        if i <= dset_two_len:\n",
    "            for j in range(i+q,dset_two_len):\n",
    "                if dset_one[i].shape != dset_two[j].shape != zeros.shape:\n",
    "                    raise Exception('Something went wrong. Was expecting arrays of the same size')\n",
    "\n",
    "                #If the norm of the differnce is approximately 0, then the images are near duplicates\n",
    "                #\n",
    "                diff = dset_one[i] - dset_two[j]\n",
    "                if close_to_zero(diff,0,0):\n",
    "                    overlap[i].append(j)\n",
    "\n",
    "                if near_overlap:\n",
    "                    if close_to_zero(diff,0,duplicate_cuttoff):\n",
    "                        overlap_near[i].append(j)\n",
    "\n",
    "    \n",
    "    if near_overlap:\n",
    "        overlap,overlap_near = concat_overlaps(overlap),concat_overlaps(overlap_near)\n",
    "        return overlap,overlap_near,{'overlap_ratio':len(overlap)/float(total),\n",
    "                                      'overlap_near_ratio': len(overlap_near)/float(total)}\n",
    "    else:\n",
    "        overlap = concat_overlaps(overlap)\n",
    "        return overlap,{'overlap_ratio':len(overlap)/float(total)}"
   ]
  },
  {
   "cell_type": "markdown",
   "metadata": {},
   "source": [
    "<h4> Testing Equality and Near duplicates Definition </h4>\n",
    "<p> \n",
    "    One thing to note, exact duplicates, mathematically, implies strict equality,\n",
    "    but there are some image matrices whose distances from one another is almost zero and\n",
    "    visually, the images look similar. Since we are pruning duplicates and near duplicates,\n",
    "    the definition does not matter and we shall proceed to define equality mathematically.\n",
    "     However, we need to define a maximum distance value that will define the cutoff point for when two images are near duplicates.\n",
    "</p>"
   ]
  },
  {
   "cell_type": "code",
   "execution_count": 18,
   "metadata": {},
   "outputs": [
    {
     "name": "stdout",
     "output_type": "stream",
     "text": [
      "Cutt Off Value 0 - 0.999\n",
      "Distance 0.0\n"
     ]
    },
    {
     "data": {
      "image/png": "[encoded data removed]",
      "text/plain": [
       "<matplotlib.figure.Figure at 0x7f6cc8b5b050>"
      ]
     },
     "metadata": {},
     "output_type": "display_data"
    },
    {
     "name": "stdout",
     "output_type": "stream",
     "text": [
      "Valid Image # 47410\n"
     ]
    },
    {
     "data": {
      "image/png": "[encoded data removed]",
      "text/plain": [
       "<matplotlib.figure.Figure at 0x7f6cc8c4f790>"
      ]
     },
     "metadata": {},
     "output_type": "display_data"
    },
    {
     "name": "stdout",
     "output_type": "stream",
     "text": [
      "Test Image # 3552\n",
      "********************************************************************************\n",
      "********************************************************************************\n",
      "\n",
      "Cutt Off Value 1 - 1.999\n",
      "Distance 1.7542\n"
     ]
    },
    {
     "data": {
      "image/png": "[encoded data removed]",
      "text/plain": [
       "<matplotlib.figure.Figure at 0x7f6cc85e6210>"
      ]
     },
     "metadata": {},
     "output_type": "display_data"
    },
    {
     "name": "stdout",
     "output_type": "stream",
     "text": [
      "Valid Image # 31293\n"
     ]
    },
    {
     "data": {
      "image/png": "[encoded data removed]",
      "text/plain": [
       "<matplotlib.figure.Figure at 0x7f6cc861c790>"
      ]
     },
     "metadata": {},
     "output_type": "display_data"
    },
    {
     "name": "stdout",
     "output_type": "stream",
     "text": [
      "Test Image # 2874\n",
      "********************************************************************************\n",
      "********************************************************************************\n",
      "\n",
      "Cutt Off Value 2 - 2.999\n",
      "Distance 2.94125\n"
     ]
    },
    {
     "data": {
      "image/png": "[encoded data removed]",
      "text/plain": [
       "<matplotlib.figure.Figure at 0x7f6cc866e510>"
      ]
     },
     "metadata": {},
     "output_type": "display_data"
    },
    {
     "name": "stdout",
     "output_type": "stream",
     "text": [
      "Valid Image # 41783\n"
     ]
    },
    {
     "data": {
      "image/png": "[encoded data removed]",
      "text/plain": [
       "<matplotlib.figure.Figure at 0x7f6cc85a0d10>"
      ]
     },
     "metadata": {},
     "output_type": "display_data"
    },
    {
     "name": "stdout",
     "output_type": "stream",
     "text": [
      "Test Image # 8311\n",
      "********************************************************************************\n",
      "********************************************************************************\n",
      "\n",
      "Cutt Off Value 3 - 3.999\n",
      "Distance 3.91774\n"
     ]
    },
    {
     "data": {
      "image/png": "[encoded data removed]",
      "text/plain": [
       "<matplotlib.figure.Figure at 0x7f6ccba4e050>"
      ]
     },
     "metadata": {},
     "output_type": "display_data"
    },
    {
     "name": "stdout",
     "output_type": "stream",
     "text": [
      "Valid Image # 47470\n"
     ]
    },
    {
     "data": {
      "image/png": "[encoded data removed]",
      "text/plain": [
       "<matplotlib.figure.Figure at 0x7f6cc8d4f150>"
      ]
     },
     "metadata": {},
     "output_type": "display_data"
    },
    {
     "name": "stdout",
     "output_type": "stream",
     "text": [
      "Test Image # 2128\n",
      "********************************************************************************\n",
      "********************************************************************************\n",
      "\n",
      "Cutt Off Value 4 - 4.999\n",
      "Distance 4.78731\n"
     ]
    },
    {
     "data": {
      "image/png": "[encoded data removed]",
      "text/plain": [
       "<matplotlib.figure.Figure at 0x7f6cc85270d0>"
      ]
     },
     "metadata": {},
     "output_type": "display_data"
    },
    {
     "name": "stdout",
     "output_type": "stream",
     "text": [
      "Valid Image # 47470\n"
     ]
    },
    {
     "data": {
      "image/png": "[encoded data removed]",
      "text/plain": [
       "<matplotlib.figure.Figure at 0x7f6cc868fbd0>"
      ]
     },
     "metadata": {},
     "output_type": "display_data"
    },
    {
     "name": "stdout",
     "output_type": "stream",
     "text": [
      "Test Image # 10\n",
      "********************************************************************************\n",
      "********************************************************************************\n",
      "\n",
      "Cutt Off Value 5 - 5.999\n",
      "Distance 5.41757\n"
     ]
    },
    {
     "data": {
      "image/png": "[encoded data removed]",
      "text/plain": [
       "<matplotlib.figure.Figure at 0x7f6cc8c2d690>"
      ]
     },
     "metadata": {},
     "output_type": "display_data"
    },
    {
     "name": "stdout",
     "output_type": "stream",
     "text": [
      "Valid Image # 47470\n"
     ]
    },
    {
     "data": {
      "image/png": "[encoded data removed]",
      "text/plain": [
       "<matplotlib.figure.Figure at 0x7f6cc8f06910>"
      ]
     },
     "metadata": {},
     "output_type": "display_data"
    },
    {
     "name": "stdout",
     "output_type": "stream",
     "text": [
      "Test Image # 2245\n",
      "********************************************************************************\n",
      "********************************************************************************\n",
      "\n",
      "Cutt Off Value 6 - 6.999\n",
      "Distance 6.69394\n"
     ]
    },
    {
     "data": {
      "image/png": "[encoded data removed]",
      "text/plain": [
       "<matplotlib.figure.Figure at 0x7f6cc8d78e90>"
      ]
     },
     "metadata": {},
     "output_type": "display_data"
    },
    {
     "name": "stdout",
     "output_type": "stream",
     "text": [
      "Valid Image # 47470\n"
     ]
    },
    {
     "data": {
      "image/png": "[encoded data removed]",
      "text/plain": [
       "<matplotlib.figure.Figure at 0x7f6cc8cf7850>"
      ]
     },
     "metadata": {},
     "output_type": "display_data"
    },
    {
     "name": "stdout",
     "output_type": "stream",
     "text": [
      "Test Image # 8524\n",
      "********************************************************************************\n",
      "********************************************************************************\n",
      "\n",
      "Cutt Off Value 7 - 7.999\n",
      "Distance 7.20051\n"
     ]
    },
    {
     "data": {
      "image/png": "[encoded data removed]",
      "text/plain": [
       "<matplotlib.figure.Figure at 0x7f6cc852b290>"
      ]
     },
     "metadata": {},
     "output_type": "display_data"
    },
    {
     "name": "stdout",
     "output_type": "stream",
     "text": [
      "Valid Image # 47470\n"
     ]
    },
    {
     "data": {
      "image/png": "[encoded data removed]",
      "text/plain": [
       "<matplotlib.figure.Figure at 0x7f6cc86c16d0>"
      ]
     },
     "metadata": {},
     "output_type": "display_data"
    },
    {
     "name": "stdout",
     "output_type": "stream",
     "text": [
      "Test Image # 3050\n",
      "********************************************************************************\n",
      "********************************************************************************\n",
      "\n",
      "Cutt Off Value 8 - 8.999\n",
      "Distance 8.98141\n"
     ]
    },
    {
     "data": {
      "image/png": "[encoded data removed]",
      "text/plain": [
       "<matplotlib.figure.Figure at 0x7f6cc8bbe810>"
      ]
     },
     "metadata": {},
     "output_type": "display_data"
    },
    {
     "name": "stdout",
     "output_type": "stream",
     "text": [
      "Valid Image # 47470\n"
     ]
    },
    {
     "data": {
      "image/png": "[encoded data removed]",
      "text/plain": [
       "<matplotlib.figure.Figure at 0x7f6cc8d627d0>"
      ]
     },
     "metadata": {},
     "output_type": "display_data"
    },
    {
     "name": "stdout",
     "output_type": "stream",
     "text": [
      "Test Image # 9378\n",
      "********************************************************************************\n",
      "********************************************************************************\n",
      "\n",
      "Cutt Off Value 9 - 9.999\n",
      "Distance 9.9892\n"
     ]
    },
    {
     "data": {
      "image/png": "[encoded data removed]",
      "text/plain": [
       "<matplotlib.figure.Figure at 0x7f6cc8e9fe90>"
      ]
     },
     "metadata": {},
     "output_type": "display_data"
    },
    {
     "name": "stdout",
     "output_type": "stream",
     "text": [
      "Valid Image # 47470\n"
     ]
    },
    {
     "data": {
      "image/png": "[encoded data removed]",
      "text/plain": [
       "<matplotlib.figure.Figure at 0x7f6cc8a7ed50>"
      ]
     },
     "metadata": {},
     "output_type": "display_data"
    },
    {
     "name": "stdout",
     "output_type": "stream",
     "text": [
      "Test Image # 805\n",
      "********************************************************************************\n",
      "********************************************************************************\n",
      "\n",
      "Cutt Off Value 10 - 10.999\n",
      "Distance 10.8105\n"
     ]
    },
    {
     "data": {
      "image/png": "[encoded data removed]",
      "text/plain": [
       "<matplotlib.figure.Figure at 0x7f6ccbc0f1d0>"
      ]
     },
     "metadata": {},
     "output_type": "display_data"
    },
    {
     "name": "stdout",
     "output_type": "stream",
     "text": [
      "Valid Image # 47470\n"
     ]
    },
    {
     "data": {
      "image/png": "[encoded data removed]",
      "text/plain": [
       "<matplotlib.figure.Figure at 0x7f6ccbb77f50>"
      ]
     },
     "metadata": {},
     "output_type": "display_data"
    },
    {
     "name": "stdout",
     "output_type": "stream",
     "text": [
      "Test Image # 6676\n",
      "********************************************************************************\n",
      "********************************************************************************\n",
      "\n",
      "Cutt Off Value 11 - 11.999\n",
      "Distance 11.807\n"
     ]
    },
    {
     "data": {
      "image/png": "[encoded data removed]",
      "text/plain": [
       "<matplotlib.figure.Figure at 0x7f6ccb9a6f50>"
      ]
     },
     "metadata": {},
     "output_type": "display_data"
    },
    {
     "name": "stdout",
     "output_type": "stream",
     "text": [
      "Valid Image # 47470\n"
     ]
    },
    {
     "data": {
      "image/png": "[encoded data removed]",
      "text/plain": [
       "<matplotlib.figure.Figure at 0x7f6ccbbb8b10>"
      ]
     },
     "metadata": {},
     "output_type": "display_data"
    },
    {
     "name": "stdout",
     "output_type": "stream",
     "text": [
      "Test Image # 8041\n",
      "********************************************************************************\n",
      "********************************************************************************\n",
      "\n",
      "Cutt Off Value 12 - 12.999\n",
      "Distance 12.9251\n"
     ]
    },
    {
     "data": {
      "image/png": "[encoded data removed]",
      "text/plain": [
       "<matplotlib.figure.Figure at 0x7f6cc8e40e90>"
      ]
     },
     "metadata": {},
     "output_type": "display_data"
    },
    {
     "name": "stdout",
     "output_type": "stream",
     "text": [
      "Valid Image # 47470\n"
     ]
    },
    {
     "data": {
      "image/png": "[encoded data removed]",
      "text/plain": [
       "<matplotlib.figure.Figure at 0x7f6cc8c696d0>"
      ]
     },
     "metadata": {},
     "output_type": "display_data"
    },
    {
     "name": "stdout",
     "output_type": "stream",
     "text": [
      "Test Image # 5260\n",
      "********************************************************************************\n",
      "********************************************************************************\n",
      "\n",
      "Cutt Off Value 13 - 13.999\n",
      "Distance 13.2378\n"
     ]
    },
    {
     "data": {
      "image/png": "[encoded data removed]",
      "text/plain": [
       "<matplotlib.figure.Figure at 0x7f6ccb9d32d0>"
      ]
     },
     "metadata": {},
     "output_type": "display_data"
    },
    {
     "name": "stdout",
     "output_type": "stream",
     "text": [
      "Valid Image # 47470\n"
     ]
    },
    {
     "data": {
      "image/png": "[encoded data removed]",
      "text/plain": [
       "<matplotlib.figure.Figure at 0x7f6d0c82e1d0>"
      ]
     },
     "metadata": {},
     "output_type": "display_data"
    },
    {
     "name": "stdout",
     "output_type": "stream",
     "text": [
      "Test Image # 14\n",
      "********************************************************************************\n",
      "********************************************************************************\n",
      "\n",
      "Cutt Off Value 14 - 14.999\n",
      "Distance 14.9764\n"
     ]
    },
    {
     "data": {
      "image/png": "[encoded data removed]",
      "text/plain": [
       "<matplotlib.figure.Figure at 0x7f6ccbbf2fd0>"
      ]
     },
     "metadata": {},
     "output_type": "display_data"
    },
    {
     "name": "stdout",
     "output_type": "stream",
     "text": [
      "Valid Image # 47470\n"
     ]
    },
    {
     "data": {
      "image/png": "[encoded data removed]",
      "text/plain": [
       "<matplotlib.figure.Figure at 0x7f6cc85a7c10>"
      ]
     },
     "metadata": {},
     "output_type": "display_data"
    },
    {
     "name": "stdout",
     "output_type": "stream",
     "text": [
      "Test Image # 8855\n",
      "********************************************************************************\n",
      "********************************************************************************\n",
      "\n"
     ]
    }
   ],
   "source": [
    "from random import shuffle\n",
    "def view_equality_cuttoff(randomize=True):\n",
    "    cutt_off_images = {x: [] for x in range(0,15)}\n",
    "    cutt_offs = {x: None for x in range(0,15)}\n",
    "    \n",
    "    v_range = range(0,len(valid_dataset))\n",
    "    t_range = range(0,len(test_dataset))\n",
    "    if randomize:\n",
    "        shuffle(v_range)\n",
    "        shuffle(t_range)\n",
    "    \n",
    "    for i in v_range:\n",
    "        for j in t_range:\n",
    "            if not cutt_offs:\n",
    "                for k in range(0,15):\n",
    "                    print ('Cutt Off Value',k,'-',k + .999)\n",
    "                    print ('Distance',np.linalg.norm(valid_dataset[cutt_off_images[k][0]]-test_dataset[cutt_off_images[k][1]]))\n",
    "                    display_letter(valid_dataset[cutt_off_images[k][0]])\n",
    "                    print ('Valid Image #',cutt_off_images[k][0])\n",
    "                    display_letter(test_dataset[cutt_off_images[k][1]])\n",
    "                    print ('Test Image #',cutt_off_images[k][1])\n",
    "                    print ('****'*20)\n",
    "                    print ('****'*20)\n",
    "                    print ('')\n",
    "                return\n",
    "            diff = valid_dataset[i] - test_dataset[j]\n",
    "            distance = np.linalg.norm(diff)\n",
    "            _cutt_off = int(distance)\n",
    "            if _cutt_off in cutt_offs:\n",
    "                cutt_off_images[_cutt_off].extend([i,j])\n",
    "\n",
    "                cutt_offs.pop(_cutt_off)\n",
    "view_equality_cuttoff()"
   ]
  },
  {
   "cell_type": "markdown",
   "metadata": {},
   "source": [
    "<h4> After randomly viewing images of different cutt_off points, we can see that images begin to look different after a distance between 4 and 6. We will go with a cutt off point of 5. If this affects the model that will be build, then the cutoff can learnt in a more statisical method. </h4>"
   ]
  },
  {
   "cell_type": "code",
   "execution_count": 8,
   "metadata": {
    "collapsed": true
   },
   "outputs": [],
   "source": [
    "duplicate_cutt_off = 5"
   ]
  },
  {
   "cell_type": "code",
   "execution_count": 9,
   "metadata": {},
   "outputs": [
    {
     "name": "stdout",
     "output_type": "stream",
     "text": [
      "function [calculate_overlap_ratio_1] finished in 617690 ms\n",
      "function [calculate_overlap_ratio_1] finished in 642178 ms\n",
      "function [calculate_overlap_ratio_1] finished in 15556159 ms\n"
     ]
    }
   ],
   "source": [
    "overlap_vt,overlap_near_vt,ratios_vt = calculate_overlap_ratio_1(valid_dataset,test_dataset,duplicate_cutt_off,near_overlap=True)\n",
    "overlap_trt,overlap_near_trt,ratios_trt = calculate_overlap_ratio_1(train_dataset,test_dataset,duplicate_cutt_off,near_overlap=True)\n",
    "overlap_trv,overlap_near_trv,ratios_trv = calculate_overlap_ratio_1(train_dataset,valid_dataset,duplicate_cutt_off,near_overlap=True)\n"
   ]
  },
  {
   "cell_type": "code",
   "execution_count": 10,
   "metadata": {},
   "outputs": [
    {
     "ename": "SyntaxError",
     "evalue": "invalid syntax (<ipython-input-10-9174ea99adad>, line 10)",
     "output_type": "error",
     "traceback": [
      "\u001b[0;36m  File \u001b[0;32m\"<ipython-input-10-9174ea99adad>\"\u001b[0;36m, line \u001b[0;32m10\u001b[0m\n\u001b[0;31m    'overlap_trt': overlap_trt,\u001b[0m\n\u001b[0m                ^\u001b[0m\n\u001b[0;31mSyntaxError\u001b[0m\u001b[0;31m:\u001b[0m invalid syntax\n"
     ]
    }
   ],
   "source": [
    "#Pickle the overlaps for use later.\n",
    "pickle_file = os.path.join(data_root, 'overlaps.pickle')\n",
    "\n",
    "try:\n",
    "  f = open(pickle_file, 'wb')\n",
    "  save = {\n",
    "    'overlap_vt': overlap_vt,\n",
    "    'overlap_near_vt': overlap_near_vt,\n",
    "    'ratio_vt': ratio_vt,\n",
    "    'overlap_trt': overlap_trt,\n",
    "    'overlap_near_trt': overlap_near_trt,\n",
    "    'ratio_trt': ratio_trt,\n",
    "    'overlap_trv': overlap_trv,\n",
    "    'overlap_near_trv': overlap_near_trv,\n",
    "    'ratio_vt': ratio_trv,\n",
    "    }\n",
    "  pickle.dump(save, f, pickle.HIGHEST_PROTOCOL)\n",
    "  f.close()\n",
    "except Exception as e:\n",
    "  print('Unable to save data to', pickle_file, ':', e)\n",
    "  raise"
   ]
  },
  {
   "cell_type": "code",
   "execution_count": null,
   "metadata": {
    "collapsed": true
   },
   "outputs": [],
   "source": [
    "print ('ratios valid/test')\n",
    "pprint(ratios_vt)\n",
    "print ('ratios train/test')\n",
    "pprint (ratios_trt)\n",
    "print ('ratios train/valid')\n",
    "pprint (ratios_trv)\n",
    "print (' ')\n",
    "\n",
    "print ('Valid/Test Dataset')\n",
    "print ('number of overlaps:', len(overlap_vt))\n",
    "print ('number of near duplicates:', len(overlap_near_vt))\n",
    "print (' ')\n",
    "\n",
    "print ('Train/Test Dataset')\n",
    "print ('number of overlaps:', len(overlap_trt))\n",
    "print ('number of near duplicates:', len(overlap_near_trt))\n",
    "print (' ')\n",
    "\n",
    "print ('Train/Valid Dataset')\n",
    "print ('number of overlaps:', len(overlap_trv))\n",
    "print ('number of near duplicates:', len(overlap_near_trv))"
   ]
  },
  {
   "cell_type": "code",
   "execution_count": null,
   "metadata": {
    "collapsed": true
   },
   "outputs": [],
   "source": [
    "from random import randint\n",
    "def view_random_overlaps(overlap,dset1,dset2):\n",
    "    k = overlap.keys()\n",
    "    random_check_index = randint(0,len(k))\n",
    "    i = k[random_check_index]\n",
    "    display_letter(dset1[i])\n",
    "    display_letter(dset2[overlap[i][0]])\n",
    "    diff = dset1[i] - dset2[overlap[i][0]]\n",
    "    print ('Distance between the two image matrices:',np.linalg.norm(diff))\n",
    "    \n",
    "#View overlaps (sanity check)\n",
    "print ('Valid/Test Overlaps')\n",
    "view_random_overlaps(overlap_near_vt,valid_dataset,test_dataset)\n",
    "print ('Train/Test Overlaps')\n",
    "view_random_overlaps(overlap_near_trt,train_dataset,test_dataset)\n",
    "print ('Train/Valid Overlaps')\n",
    "view_random_overlaps(overlap_near_trv,train_dataset,valid_dataset)\n",
    "\n",
    "\n",
    "#View near overlaps (sanity check)\n",
    "print ('Valid/Test Overlaps')\n",
    "view_random_overlaps(overlap_vt,valid_dataset,test_dataset)\n",
    "print ('Train/Test Overlaps')\n",
    "view_random_overlaps(overlap_trt,train_dataset,test_dataset)\n",
    "print ('Train/Valid Overlaps')\n",
    "view_random_overlaps(overlap_trv,train_dataset,valid_dataset)\n"
   ]
  },
  {
   "cell_type": "code",
   "execution_count": null,
   "metadata": {
    "collapsed": true
   },
   "outputs": [],
   "source": [
    "#Creating a sanitized Validation and Test Sets\n",
    "#All duplicates between the training set and the validation and test set \n",
    "#will be left in the training sets.\n",
    "#Duplicates between the validation and test set not in the training set wil lbe left\n",
    "#in the validation set.\n",
    "\n",
    "def make_array(size):\n",
    "    return nd.array(size)\n",
    "\n",
    "def sanitize_datasets():\n",
    "    v_sanitized,t_sanitized = [],[]\n",
    "    \n",
    "    #Remove duplicates in test dataset from valid and train\n",
    "    test_duplicates = []\n",
    "    for t in overlap_trt.values()\n",
    "        test_duplicates.extend(t)\n",
    "    for t in overlap_vt.values()\n",
    "        test_duplicates.extend(t)\n",
    "    list(set(test_duplicates))\n",
    "    \n",
    "    #Remove duplicates in valid dataset from train\n",
    "    valid_duplicates = []\n",
    "    for t in overlap_trt:\n",
    "        valid_duplicates.extend(t)\n",
    "    list(set(valid_duplicates))\n",
    "    \n",
    "    #make array\n",
    "    test_dataset_s = make_array((test_dataset.shape[0] - len(test_duplicates),image_size,image_size))\n",
    "    valid_dataset_s = make_array((valid_dataset.shape[0] - len(valid_duplicates),image_size,image_size))\n",
    "    test_labels_s = make_array(test_dataset.shape[0] - len(test_duplicates))\n",
    "    valid_labels_s = make_array(test_dataset.shape[0] - len(test_duplicates))\n",
    "    \n",
    "    #Create sanitized test dataset\n",
    "    k = 0\n",
    "    for i in range(0,test_dataset.shape[0]):\n",
    "        if i in test_duplicates:\n",
    "            k += 1\n",
    "        else:\n",
    "            test_dataset_s[i-k,:,:] = test_dataset[i]\n",
    "            test_labels_s[i-k] = test_labels[i]\n",
    "    #Create sanitized valid dataset\n",
    "    k = 0    \n",
    "    for i in range(0,valid_dataset.shape[0]):\n",
    "        if i in valid_duplicates:\n",
    "            k += 1\n",
    "        else:\n",
    "            valid_dataset_s[i-k,:,:] = valid_dataset[i]\n",
    "            valid_labels_s[i-k] = valid_labels[i]\n",
    "            \n",
    "    return test_dataset_s,valid_dataset_s,test_labels_s,valid_labels_s\n",
    "            \n",
    "    \n",
    "    "
   ]
  },
  {
   "cell_type": "code",
   "execution_count": null,
   "metadata": {
    "collapsed": true
   },
   "outputs": [],
   "source": [
    "test_dataset_s,valid_dataset_s,test_labels_s,valid_labels_s = sanitize_datasets()"
   ]
  },
  {
   "cell_type": "markdown",
   "metadata": {
    "colab_type": "text",
    "id": "L8oww1s4JMQx"
   },
   "source": [
    "---\n",
    "Problem 6\n",
    "---------\n",
    "\n",
    "Let's get an idea of what an off-the-shelf classifier can give you on this data. It's always good to check that there is something to learn, and that it's a problem that is not so trivial that a canned solution solves it.\n",
    "\n",
    "Train a simple model on this data using 50, 100, 1000 and 5000 training samples. Hint: you\n",
    "can use the LogisticRegression model from sklearn.linear_model.\n",
    "\n",
    "Optional question: train an off-the-shelf model on all the data!\n",
    "\n",
    "---"
   ]
  },
  {
   "cell_type": "code",
   "execution_count": null,
   "metadata": {
    "collapsed": true
   },
   "outputs": [],
   "source": [
    "from sklearn.multiclass import OneVsRestClassifier\n",
    "from sklearn.linear_model import LogisticRegression\n",
    "(\n",
    "def train_OVR(train_size):\n",
    "    OVR = OneVsRestClassifier(LogisticRegression()).fit(train_dataset[:train_size],train_labels[:train_size])\n",
    "    return OVR\n",
    "    \n",
    "def sample_train_OVR():\n",
    "    sample_sizes = [50,100,1000,5000,50000]\n",
    "    for size in sample_sizes:\n",
    "        OVR = train_OVR(size)\n",
    "        print ('Unsanitized Dataset Accuracy')\n",
    "        print ('Sample Size'+str(size)+'Accuracy',OVR.score(test_dataset,test_labels))\n",
    "        print ('Sanitized Dataset Accuracy')\n",
    "        print ('Sample Size'+str(size)+'Accuracy',OVR.score(test_dataset_s,test_labels_s))\n",
    "\n",
    "sample_train_OVR()"
   ]
  },
  {
   "cell_type": "code",
   "execution_count": null,
   "metadata": {
    "collapsed": true
   },
   "outputs": [],
   "source": [
    "#Off the shelf solution: convolutional neural network\n",
    "from keras.models import Sequential\n",
    "from keras.layers import Dense, Dropout, Flatten\n",
    "from keras.constraints import maxnorm\n",
    "from keras.optimizers import SGD\n",
    "from keras.layers.convolutional import Conv2D\n",
    "from keras.layers.convolutional import MaxPooling2D\n",
    "from keras.utils import np_utils\n",
    "#from keras import backend as K\n",
    "#K.set_image_dim_ordering('th')\n",
    "\n",
    "X_train = train_dataset\n",
    "X_valid = valid_dataset\n",
    "X_test = test_dataset\n",
    "y_train = np_utils.to_categorical(train_labels)\n",
    "y_valid = np.utils.to_categorical(valid_labels)\n",
    "y_test = np_utils.to_categorical(test_labels)\n",
    "y_test_s = np.utils.to_categorical(test_labels_s)\n",
    "y_valid_s = np.utils.to_categorical(valid_labels_s)\n",
    "\n",
    "# Create the model\n",
    "model = Sequential()\n",
    "model.add(Conv2D(28, (3, 3), input_shape=(28, 28, 3), padding='same', activation='relu', kernel_constraint=maxnorm(3)))\n",
    "model.add(Dropout(0.2))\n",
    "model.add(Conv2D(28, (3, 3), activation='relu', padding='same', kernel_constraint=maxnorm(3)))\n",
    "model.add(MaxPooling2D(pool_size=(2, 2)))\n",
    "model.add(Flatten())\n",
    "model.add(Dense(512, activation='relu', kernel_constraint=maxnorm(3)))\n",
    "model.add(Dropout(0.5))\n",
    "model.add(Dense(num_classes, activation='softmax'))\n",
    "\n",
    "# Compile model\n",
    "epochs = 2\n",
    "lrate = 0.01\n",
    "decay = lrate/epochs\n",
    "sgd = SGD(lr=lrate, momentum=0.9, decay=decay, nesterov=False)\n",
    "model.compile(loss='categorical_crossentropy', optimizer=sgd, metrics=['accuracy'])\n",
    "print(model.summary())"
   ]
  },
  {
   "cell_type": "code",
   "execution_count": null,
   "metadata": {
    "collapsed": true
   },
   "outputs": [],
   "source": [
    "# Fit the model\n",
    "model.fit(X_train, y_train, validation_data=(X_valid, y_valid), epochs=epochs, batch_size=32)\n",
    "# Final evaluation of the model\n",
    "scores = model.evaluate(X_test, y_test, verbose=0)\n",
    "print(\"Accuracy: %.2f%%\" % (scores[1]*100))"
   ]
  }
 ],
 "metadata": {
  "colab": {
   "default_view": {},
   "name": "1_notmnist.ipynb",
   "provenance": [],
   "version": "0.3.2",
   "views": {}
  },
  "kernelspec": {
   "display_name": "Python 2",
   "language": "python",
   "name": "python2"
  },
  "language_info": {
   "codemirror_mode": {
    "name": "ipython",
    "version": 2
   },
   "file_extension": ".py",
   "mimetype": "text/x-python",
   "name": "python",
   "nbconvert_exporter": "python",
   "pygments_lexer": "ipython2",
   "version": "2.7.13"
  }
 },
 "nbformat": 4,
 "nbformat_minor": 1
}
